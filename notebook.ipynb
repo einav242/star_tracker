{
 "cells": [
  {
   "cell_type": "markdown",
   "id": "30d5ed07",
   "metadata": {},
   "source": [
    "# import moudles into our code"
   ]
  },
  {
   "cell_type": "code",
   "execution_count": 3,
   "id": "a3537254",
   "metadata": {},
   "outputs": [],
   "source": [
    "from skimage.feature import blob_log\n",
    "from skimage.color import rgb2gray\n",
    "import numpy as np\n",
    "import cv2\n"
   ]
  },
  {
   "cell_type": "markdown",
   "id": "588c029a",
   "metadata": {},
   "source": [
    "find coreds in picter and save to some file"
   ]
  },
  {
   "cell_type": "code",
   "execution_count": 4,
   "id": "16e0ed1b",
   "metadata": {},
   "outputs": [],
   "source": [
    "def find_coordinates(img_path, output_path=None):\n",
    "    #read the inage data and convert it to gray insted of red-blue-green\n",
    "    image = cv2.imread(img_path)\n",
    "    gray = rgb2gray(image)\n",
    "\n",
    "    #detecet ares which have spiks in the brightness\n",
    "    blobs_log = blob_log(gray, max_sigma=30, num_sigma=10, threshold=.1)\n",
    "\n",
    "    #for each blob calc the y,x,r and brightness and store in the list\n",
    "    coordinates = []\n",
    "    for i, blob in enumerate(blobs_log):\n",
    "        y, x, r = blob\n",
    "        brightness = np.mean(gray[int(y - r):int(y + r), int(x - r):int(x + r)])\n",
    "        coordinates.append((x, y, r, brightness))\n",
    "        \n",
    "    #save to output file\n",
    "    if output_path is not None:\n",
    "        with open(output_path, 'w') as f:\n",
    "            for result in coordinates:\n",
    "                f.write(f\"{result[0]},{result[1]},{result[2]},{result[3]}\\n\")\n",
    "    return coordinates\n"
   ]
  },
  {
   "cell_type": "markdown",
   "id": "79ea9f0c",
   "metadata": {},
   "source": [
    "function to calc the distence betweeen 2 coreds"
   ]
  },
  {
   "cell_type": "code",
   "execution_count": 5,
   "id": "581c5991",
   "metadata": {},
   "outputs": [],
   "source": [
    "def distance(point1, point2):\n",
    "    #the formla of distance between 2 points\n",
    "    return np.sqrt((point1[0] - point2[0]) ** 2 + (point1[1] - point2[1]) ** 2)"
   ]
  },
  {
   "cell_type": "markdown",
   "id": "12b4ef9f",
   "metadata": {},
   "source": [
    "using the 2 function above to find the best natchs and return it"
   ]
  },
  {
   "cell_type": "code",
   "execution_count": 6,
   "id": "8e1dfc5d",
   "metadata": {},
   "outputs": [],
   "source": [
    "def match_stars(img1_path, img2_path, output_path=None):\n",
    "    #find the 2 list of cords\n",
    "    stars1 = find_coordinates(img1_path)\n",
    "    stars2 = find_coordinates(img2_path)\n",
    "    matching_pairs = []\n",
    "    max_matching_score = 1\n",
    "    \n",
    "    #for each cord in image1\n",
    "    for star1 in stars1:\n",
    "        best_matching_score = max_matching_score\n",
    "        matching_star = None\n",
    "\n",
    "        #check against each start in image2 \n",
    "        for star2 in stars2:\n",
    "            dist = distance(star1, star2)\n",
    "\n",
    "            if dist < 50:\n",
    "                matching_score = 1 - (dist / 50)\n",
    "                \n",
    "                #if it it the best match - update the matching_star value\n",
    "                if matching_score < best_matching_score:\n",
    "                    best_matching_score = matching_score\n",
    "                    matching_star = star2\n",
    "\n",
    "        #if we found a match - we will remove from the image2 list and add to the matching starts\n",
    "        if matching_star is not None:\n",
    "            matching_pairs.append((star1, matching_star))\n",
    "            stars2.remove(matching_star)\n",
    "\n",
    "    #save to output file\n",
    "    if output_path is not None:\n",
    "        with open(output_path, \"w\") as file:\n",
    "            for pair in matching_pairs:\n",
    "                file.write(str(pair) + \"\\n\")\n",
    "\n",
    "    return matching_pairs"
   ]
  },
  {
   "cell_type": "code",
   "execution_count": 7,
   "id": "888c380d",
   "metadata": {},
   "outputs": [
    {
     "name": "stdout",
     "output_type": "stream",
     "text": [
      "[(134.0, 123.0, 4.222222222222222, 0.6967026821592834), (324.0, 366.0, 4.222222222222222, 0.7774177874606633), (346.0, 450.0, 4.222222222222222, 0.7528303316388284), (229.0, 65.0, 4.222222222222222, 0.599986952311789), (454.0, 531.0, 4.222222222222222, 0.7180392253691601), (337.0, 188.0, 4.222222222222222, 0.623711188574195)]\n"
     ]
    }
   ],
   "source": [
    "print(find_coordinates(\"right_image.jpg\", \"stam.txt\"))"
   ]
  },
  {
   "cell_type": "code",
   "execution_count": 8,
   "id": "cd18d4c2",
   "metadata": {},
   "outputs": [
    {
     "name": "stdout",
     "output_type": "stream",
     "text": [
      "[(523.0, 600.0, 1.0, 0.7403168627450981), (425.0, 516.0, 1.0, 0.5467478431372549), (552.0, 34.0, 1.0, 0.31729558823529413), (448.0, 561.0, 1.0, 0.5258901960784312), (243.0, 196.0, 1.0, 0.42168941176470587), (58.0, 609.0, 1.0, 0.6095485294117646), (239.0, 657.0, 1.0, 0.5968703921568628), (409.0, 423.0, 1.0, 0.4973936274509805), (351.0, 74.0, 1.0, 0.45882352941176463), (343.0, 377.0, 1.0, 0.4680525490196079), (393.0, 466.0, 1.0, 0.4847192156862746), (304.0, 413.0, 1.0, 0.585206568627451), (447.0, 309.0, 1.0, 0.3696636274509804), (408.0, 222.0, 1.0, 0.3939075490196078), (477.0, 22.0, 1.0, 0.22898960784313727), (254.0, 191.0, 1.0, 0.3419986274509804), (275.0, 258.0, 1.0, 0.44445245098039216), (517.0, 206.0, 1.0, 0.3054601960784314)]\n"
     ]
    }
   ],
   "source": [
    "print(find_coordinates(\"left_image.jpg\", \"stam2.txt\"))"
   ]
  },
  {
   "cell_type": "code",
   "execution_count": 9,
   "id": "00858119",
   "metadata": {},
   "outputs": [
    {
     "name": "stdout",
     "output_type": "stream",
     "text": [
      "[((324.0, 366.0, 4.222222222222222, 0.7774177874606633), (343.0, 377.0, 1.0, 0.4680525490196079)), ((346.0, 450.0, 4.222222222222222, 0.7528303316388284), (393.0, 466.0, 1.0, 0.4847192156862746)), ((454.0, 531.0, 4.222222222222222, 0.7180392253691601), (425.0, 516.0, 1.0, 0.5467478431372549))]\n"
     ]
    }
   ],
   "source": [
    "print(match_stars(\"right_image.jpg\", \"left_image.jpg\", \"stam3.txt\"))"
   ]
  },
  {
   "cell_type": "code",
   "execution_count": null,
   "id": "fbe7039e",
   "metadata": {},
   "outputs": [],
   "source": []
  }
 ],
 "metadata": {
  "kernelspec": {
   "display_name": "Python 3 (ipykernel)",
   "language": "python",
   "name": "python3"
  },
  "language_info": {
   "codemirror_mode": {
    "name": "ipython",
    "version": 3
   },
   "file_extension": ".py",
   "mimetype": "text/x-python",
   "name": "python",
   "nbconvert_exporter": "python",
   "pygments_lexer": "ipython3",
   "version": "3.11.0"
  }
 },
 "nbformat": 4,
 "nbformat_minor": 5
}
