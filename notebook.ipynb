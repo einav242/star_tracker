{
 "cells": [
  {
   "cell_type": "markdown",
   "id": "30d5ed07",
   "metadata": {},
   "source": [
    "# import moudles into our code"
   ]
  },
  {
   "cell_type": "code",
   "execution_count": 1,
   "id": "a3537254",
   "metadata": {},
   "outputs": [],
   "source": [
    "from scipy.optimize import linear_sum_assignment\n",
    "from scipy.spatial import distance_matrix\n",
    "from skimage.feature import blob_log\n",
    "from skimage.color import rgb2gray, rgb2yuv\n",
    "import numpy as np\n",
    "import cv2\n",
    "import os.path\n"
   ]
  },
  {
   "cell_type": "markdown",
   "id": "588c029a",
   "metadata": {},
   "source": [
    "find coreds in picter and save to some file"
   ]
  },
  {
   "cell_type": "code",
   "execution_count": 2,
   "id": "16e0ed1b",
   "metadata": {},
   "outputs": [],
   "source": [
    "def find_coordinates(img_path, output_path=None):\n",
    "    # Read the image using OpenCV\n",
    "    image = cv2.imread(img_path)\n",
    "\n",
    "    # Convert the image to YUV color space and use the Y channel only\n",
    "    yuv_image = rgb2yuv(image)\n",
    "    yuv_image = yuv_image[:, :, 0]\n",
    "\n",
    "    # Detect stars using blob detection with Laplacian of Gaussian (LoG) method\n",
    "    blobs_log = blob_log(yuv_image, max_sigma=30, num_sigma=10, threshold=.1)\n",
    "\n",
    "    # For each detected blob, calculate its brightness and store its coordinates\n",
    "    coordinates = []\n",
    "    for i, blob in enumerate(blobs_log):\n",
    "        y, x, r = blob\n",
    "        brightness = np.mean(yuv_image[int(y - r):int(y + r), int(x - r):int(x + r)])\n",
    "        coordinates.append((x, y, r, brightness))\n",
    "\n",
    "    # Write the coordinates to a file if output_path is provided\n",
    "    if output_path is not None:\n",
    "        with open(output_path, 'w') as f:\n",
    "            for result in coordinates:\n",
    "                f.write(f\"{result[0]},{result[1]},{result[2]},{result[3]}\\n\")\n",
    "    return coordinates"
   ]
  },
  {
   "cell_type": "markdown",
   "id": "79ea9f0c",
   "metadata": {},
   "source": [
    "function to calc the distence betweeen 2 coreds"
   ]
  },
  {
   "cell_type": "code",
   "execution_count": 3,
   "id": "581c5991",
   "metadata": {},
   "outputs": [],
   "source": [
    "def distance(point1, point2):\n",
    "    #the formla of distance between 2 points\n",
    "    return np.sqrt((point1[0] - point2[0]) ** 2 + (point1[1] - point2[1]) ** 2)"
   ]
  },
  {
   "cell_type": "markdown",
   "id": "12b4ef9f",
   "metadata": {},
   "source": [
    "using the 2 function above to find the best natchs and return it"
   ]
  },
  {
   "cell_type": "code",
   "execution_count": 29,
   "id": "8e1dfc5d",
   "metadata": {},
   "outputs": [],
   "source": [
    "def match_stars(img1_path, img2_path, output_path=None):\n",
    "    \"\"\"\n",
    "    Finding star matches between two images using the RANSAC algorithm.\n",
    "\n",
    "    :param img1_path: Path to the first image.\n",
    "    :param img2_path: Path to the second image.\n",
    "    :param output_path: (Optional) Path to write the output file containing the matching star pairs.\n",
    "    :return: A list of tuples, where each tuple contains the coordinates and radius of a matching star in both images.\n",
    "    \"\"\"\n",
    "    stars1 = np.array(find_coordinates(img1_path))\n",
    "    stars2 = np.array(find_coordinates(img2_path))\n",
    "\n",
    "    # Create a distance matrix between all stars in both images\n",
    "    dist_matrix = distance_matrix(stars1[:, :2], stars2[:, :2])\n",
    "\n",
    "    # Convert the distance matrix to a cost matrix for the linear sum assignment problem\n",
    "    cost_matrix = (1 - dist_matrix / 50)\n",
    "\n",
    "    # Solve the linear sum assignment problem\n",
    "    row_ind, col_ind = linear_sum_assignment(-cost_matrix)\n",
    "\n",
    "    # Create a list of matching star pairs\n",
    "    matching_pairs = []\n",
    "    for row, col in zip(row_ind, col_ind):\n",
    "        # We will only add to the list the pairs whose matching cost is positive.\n",
    "        if cost_matrix[row, col] > 0:\n",
    "            matching_pairs.append((tuple(stars1[row]), tuple(stars2[col])))\n",
    "\n",
    "        \n",
    "    # Write the output file if a path is provided\n",
    "    if output_path is not None:\n",
    "        with open(output_path, \"w\") as file:\n",
    "            for pair in matching_pairs:\n",
    "                file.write(str(pair) + \"\\n\")\n",
    "\n",
    "    return matching_pairs"
   ]
  },
  {
   "cell_type": "code",
   "execution_count": 30,
   "id": "888c380d",
   "metadata": {},
   "outputs": [],
   "source": [
    "list_of_stars = []"
   ]
  },
  {
   "cell_type": "code",
   "execution_count": 35,
   "id": "cd18d4c2",
   "metadata": {},
   "outputs": [],
   "source": [
    "for i in range (3046 , 3063): \n",
    "    file1 = \"IMG_\"+ str(i) + \".jpg\"\n",
    "    file1 = os.path.join (\"data\", file1)\n",
    "    \n",
    "    file2 = \"IMG_\"+ str(i+1) + \".jpg\"\n",
    "    file2 = os.path.join (\"data\", file2)\n",
    "    \n",
    "    output = \"output\" + str(i) + \".txt\"\n",
    "    list_of_stars.append(match_stars(file1, file2, output))"
   ]
  },
  {
   "cell_type": "code",
   "execution_count": 36,
   "id": "00858119",
   "metadata": {},
   "outputs": [
    {
     "name": "stdout",
     "output_type": "stream",
     "text": [
      "[[((1659.0, 2533.0, 1.0, 0.9651029411764706), (1630.0, 2503.0, 4.222222222222222, 0.7661106753812634))], [((1659.0, 2533.0, 1.0, 0.9651029411764706), (1630.0, 2503.0, 4.222222222222222, 0.7661106753812634))], [((2708.0, 3922.0, 4.222222222222222, 0.7905747276688453), (2710.0, 3924.0, 4.222222222222222, 0.7576825950133139)), ((577.0, 3384.0, 4.222222222222222, 0.8223060275962238), (579.0, 3386.0, 4.222222222222222, 0.818908206245461)), ((1683.0, 3697.0, 4.222222222222222, 0.7278585814572741), (1685.0, 3699.0, 4.222222222222222, 0.7302892762043088)), ((296.0, 895.0, 4.222222222222222, 0.6345427257322682), (297.0, 899.0, 4.222222222222222, 0.6322186879690147)), ((1630.0, 2503.0, 4.222222222222222, 0.7661106753812634), (1631.0, 2505.0, 4.222222222222222, 0.7799573953038004)), ((1874.0, 2482.0, 4.222222222222222, 0.7324475429678043), (1875.0, 2484.0, 4.222222222222222, 0.7493268458000484)), ((715.0, 1299.0, 1.0, 0.9556117647058824), (715.0, 1299.0, 1.0, 0.9588049019607843)), ((1520.0, 1344.0, 1.0, 0.9792813725490195), (1520.0, 1346.0, 1.0, 0.7956431372549019)), ((1324.0, 3196.0, 1.0, 0.8372313725490196), (1325.0, 3198.0, 1.0, 0.5127970588235293)), ((2176.0, 1263.0, 1.0, 0.8103666666666665), (2174.0, 1264.0, 1.0, 0.805299019607843)), ((36.0, 2372.0, 1.0, 0.8783254901960783), (36.0, 2374.0, 1.0, 0.8760039215686273)), ((2192.0, 3692.0, 1.0, 0.9612450980392157), (2193.0, 3692.0, 1.0, 0.5355588235294118)), ((2952.0, 3143.0, 1.0, 0.9293245098039216), (2956.0, 3143.0, 4.222222222222222, 0.48639443234083746)), ((1556.0, 541.0, 1.0, 0.8791803921568626), (1556.0, 542.0, 1.0, 0.7824764705882353)), ((508.0, 2761.0, 1.0, 0.6856156862745099), (509.0, 2763.0, 1.0, 0.5024745098039215)), ((2003.0, 3239.0, 4.222222222222222, 0.5161066085693535), (2006.0, 3241.0, 1.0, 0.7000656862745097)), ((1683.0, 2495.0, 1.0, 0.7611647058823529), (1684.0, 2497.0, 1.0, 0.7456980392156862)), ((843.0, 3415.0, 1.0, 0.6889490196078432), (845.0, 3417.0, 1.0, 0.9894686274509803)), ((1388.0, 1372.0, 1.0, 0.681878431372549), (1387.0, 1376.0, 1.0, 0.7104843137254901)), ((1650.0, 2632.0, 1.0, 0.8339333333333332), (1649.0, 2633.0, 1.0, 0.604521568627451)), ((714.0, 1296.0, 1.0, 0.7539803921568627), (717.0, 1301.0, 1.0, 0.9873372549019608)), ((846.0, 3413.0, 1.0, 0.7124676470588235), (845.0, 3415.0, 1.0, 0.8545215686274509)), ((184.0, 1136.0, 1.0, 0.6281745098039215), (186.0, 1136.0, 1.0, 0.5720196078431372)), ((531.0, 888.0, 1.0, 0.6260039215686274), (533.0, 890.0, 1.0, 0.620563725490196)), ((2270.0, 871.0, 1.0, 0.8162696078431372), (2269.0, 873.0, 1.0, 0.7881411764705881)), ((801.0, 1169.0, 1.0, 0.6016941176470587), (802.0, 1170.0, 1.0, 0.4978078431372549)), ((2292.0, 2796.0, 1.0, 0.6187656862745098), (2294.0, 2799.0, 1.0, 0.587143137254902)), ((2103.0, 3593.0, 1.0, 0.6799470588235292), (2104.0, 3596.0, 1.0, 0.6883872549019607)), ((1765.0, 2704.0, 1.0, 0.6527000000000001), (1765.0, 2707.0, 1.0, 0.4623647058823529)), ((1476.0, 2628.0, 1.0, 0.5407960784313726), (1480.0, 2630.0, 1.0, 0.9156176470588235)), ((129.0, 2468.0, 1.0, 0.5218901960784313), (130.0, 2470.0, 1.0, 0.5747803921568627)), ((127.0, 2469.0, 1.0, 0.48953725490196076), (128.0, 2472.0, 1.0, 0.5616294117647058)), ((1448.0, 3760.0, 1.0, 0.6074882352941177), (1449.0, 3761.0, 1.0, 0.7337156862745098)), ((1445.0, 3762.0, 1.0, 0.5679098039215686), (1446.0, 3763.0, 1.0, 0.5623117647058823)), ((3013.0, 1095.0, 1.0, 0.4537078431372549), (3013.0, 1096.0, 1.0, 0.44405882352941173)), ((1554.0, 2970.0, 1.0, 0.5232735294117647), (1555.0, 2971.0, 1.0, 0.9224901960784313)), ((2112.0, 1246.0, 1.0, 0.49214313725490194), (2113.0, 1248.0, 1.0, 0.6393901960784314))], [], [((2791.0, 510.0, 4.222222222222222, 0.8030413943355119), (2792.0, 512.0, 4.222222222222222, 0.7195726458484628)), ((1771.0, 2981.0, 7.444444444444445, 0.8940792156862745), (1773.0, 2984.0, 7.444444444444445, 0.9354122701525055)), ((2250.0, 2930.0, 7.444444444444445, 0.846187294117647), (2252.0, 2932.0, 7.444444444444445, 0.8748313202614378)), ((1242.0, 766.0, 4.222222222222222, 0.7260880658436214), (1245.0, 767.0, 4.222222222222222, 0.7713673202614378)), ((2044.0, 3373.0, 4.222222222222222, 0.6746155410312273), (2043.0, 3374.0, 4.222222222222222, 0.4877312515129508)), ((1642.0, 3903.0, 4.222222222222222, 0.6485611232147178), (1644.0, 3906.0, 4.222222222222222, 0.5926523844105542)), ((2665.0, 480.0, 4.222222222222222, 0.5698722827402565), (2666.0, 483.0, 4.222222222222222, 0.6929088356330185)), ((1064.0, 1740.0, 4.222222222222222, 0.6220000000000001), (1064.0, 1743.0, 4.222222222222222, 0.5058646332607116)), ((1813.0, 3236.0, 4.222222222222222, 0.5514284676833696), (1815.0, 3239.0, 4.222222222222222, 0.5583369160009684)), ((1476.0, 3233.0, 4.222222222222222, 0.5689791333817477), (1477.0, 3235.0, 4.222222222222222, 0.783196417332365)), ((2324.0, 3034.0, 4.222222222222222, 0.5338672476397966), (2326.0, 3037.0, 4.222222222222222, 0.4945141612200435)), ((1501.0, 702.0, 4.222222222222222, 0.49962517550229973), (1501.0, 704.0, 4.222222222222222, 0.5881302348099734)), ((2148.0, 814.0, 4.222222222222222, 0.437842653110627), (2149.0, 817.0, 4.222222222222222, 0.5685886710239652))], [((1245.0, 767.0, 4.222222222222222, 0.7713673202614378), (1222.0, 804.0, 1.0, 0.2633725490196078))], [((1659.0, 2533.0, 1.0, 0.9651029411764706), (1630.0, 2503.0, 4.222222222222222, 0.7661106753812634))]]\n"
     ]
    }
   ],
   "source": [
    "print(list_of_stars) "
   ]
  },
  {
   "cell_type": "code",
   "execution_count": null,
   "id": "d6abf07e",
   "metadata": {},
   "outputs": [],
   "source": []
  }
 ],
 "metadata": {
  "kernelspec": {
   "display_name": "Python 3 (ipykernel)",
   "language": "python",
   "name": "python3"
  },
  "language_info": {
   "codemirror_mode": {
    "name": "ipython",
    "version": 3
   },
   "file_extension": ".py",
   "mimetype": "text/x-python",
   "name": "python",
   "nbconvert_exporter": "python",
   "pygments_lexer": "ipython3",
   "version": "3.11.3"
  }
 },
 "nbformat": 4,
 "nbformat_minor": 5
}
