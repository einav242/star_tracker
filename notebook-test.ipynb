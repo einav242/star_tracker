{
 "cells": [
  {
   "cell_type": "code",
   "execution_count": 1,
   "id": "6442fd78",
   "metadata": {},
   "outputs": [],
   "source": [
    "import os"
   ]
  },
  {
   "cell_type": "code",
   "execution_count": 2,
   "id": "0b086541",
   "metadata": {},
   "outputs": [],
   "source": [
    "from main import find_matching_stars, show_stars"
   ]
  },
  {
   "cell_type": "code",
   "execution_count": 3,
   "id": "1119c952",
   "metadata": {},
   "outputs": [],
   "source": [
    "file1 = \"fr1.jpg\"\n",
    "file1 = os.path.join(\"data_test\", file1)\n",
    "file2 = \"fr2.jpg\"\n",
    "file2 = os.path.join(\"data_test\", file2)\n",
    "file3 = \"ST_db1.jpg\"\n",
    "file3 = os.path.join(\"data_test\", file3)\n",
    "file4 = \"ST_db2.jpg\"\n",
    "file4 = os.path.join(\"data_test\", file4)"
   ]
  },
  {
   "cell_type": "code",
   "execution_count": 4,
   "id": "5c996eb3",
   "metadata": {},
   "outputs": [],
   "source": [
    "filename1 = \"%s_processed.jpg\" % file1\n",
    "filename2 = \"%s_processed.jpg\" % file2\n",
    "filename3 = \"%s_processed.jpg\" % file3\n",
    "filename4 = \"%s_processed.jpg\" % file4"
   ]
  },
  {
   "cell_type": "code",
   "execution_count": 5,
   "id": "95e55946",
   "metadata": {},
   "outputs": [
    {
     "name": "stdout",
     "output_type": "stream",
     "text": [
      "data_test\\fr1.jpg vs. data_test\\fr2.jpg =  [('0', '0'), ('1', '1'), ('2', '3'), ('3', '4'), ('4', '2'), ('5', '5'), ('6', '8'), ('8', '6'), ('9', '7'), ('10', '9'), ('11', '10'), ('12', '12'), ('13', '11'), ('14', '14'), ('15', '13'), ('16', '18'), ('18', '16'), ('20', '17'), ('22', '15'), ('23', '20'), ('24', '21'), ('25', '19'), ('26', '25'), ('27', '26'), ('28', '22'), ('29', '23'), ('30', '24'), ('31', '27'), ('32', '28')]\n"
     ]
    }
   ],
   "source": [
    "output = \"output_fr1_fr2.txt\"\n",
    "output = os.path.join(\"result\", output)\n",
    "temp_list = find_matching_stars(file1, file2, output)\n",
    "output_img = \"output_fr1_fr2.jpg\"\n",
    "output_img = os.path.join(\"result\", output_img)\n",
    "show_stars(filename1, filename2, temp_list, output_img)\n",
    "tmp = [(m[0].id, m[1].id) for m in temp_list]\n",
    "print(file1, \"vs.\", file2, \"= \", tmp)"
   ]
  },
  {
   "cell_type": "code",
   "execution_count": 6,
   "id": "0777d644",
   "metadata": {},
   "outputs": [
    {
     "name": "stdout",
     "output_type": "stream",
     "text": [
      "data_test\\fr1.jpg vs. data_test\\ST_db1.jpg =  [('0', '19'), ('1', '5'), ('2', '9'), ('3', '31'), ('4', '10'), ('5', '34'), ('6', '20'), ('7', '6'), ('8', '15'), ('9', '26'), ('10', '24'), ('11', '0'), ('12', '14'), ('13', '3'), ('14', '13'), ('15', '12'), ('16', '17'), ('17', '1'), ('18', '16'), ('19', '29'), ('20', '2'), ('21', '4'), ('22', '21'), ('23', '63'), ('24', '69'), ('25', '7'), ('26', '36'), ('27', '44'), ('28', '60'), ('29', '103'), ('30', '46'), ('31', '109'), ('32', '143'), ('33', '177')]\n"
     ]
    }
   ],
   "source": [
    "output = \"output_fr1_ST_db1.txt\"\n",
    "output = os.path.join(\"result\", output)\n",
    "temp_list = find_matching_stars(file1, file3, output)\n",
    "output_img = \"output_fr1_ST_db1.jpg\"\n",
    "output_img = os.path.join(\"result\", output_img)\n",
    "show_stars(filename1, filename3, temp_list, output_img)\n",
    "tmp = [(m[0].id, m[1].id) for m in temp_list]\n",
    "print(file1, \"vs.\", file3, \"= \", tmp)"
   ]
  },
  {
   "cell_type": "code",
   "execution_count": 7,
   "id": "698976f0",
   "metadata": {},
   "outputs": [
    {
     "name": "stdout",
     "output_type": "stream",
     "text": [
      "data_test\\fr1.jpg vs. data_test\\ST_db2.jpg =  [('0', '1'), ('1', '10'), ('2', '6'), ('3', '61'), ('4', '17'), ('5', '23'), ('6', '0'), ('7', '3'), ('8', '47'), ('9', '13'), ('10', '28'), ('11', '12'), ('12', '9'), ('13', '29'), ('14', '2'), ('15', '24'), ('16', '5'), ('17', '8'), ('18', '44'), ('19', '30'), ('20', '7'), ('21', '4'), ('22', '21'), ('23', '37'), ('24', '43'), ('25', '38'), ('26', '22'), ('27', '63'), ('28', '85'), ('29', '90'), ('30', '51'), ('31', '103'), ('32', '180'), ('33', '192')]\n"
     ]
    }
   ],
   "source": [
    "output = \"output_fr1_ST_db2.txt\"\n",
    "output = os.path.join(\"result\", output)\n",
    "temp_list = find_matching_stars(file1, file4, output)\n",
    "output_img = \"output_fr1_ST_db2.jpg\"\n",
    "output_img = os.path.join(\"result\", output_img)\n",
    "show_stars(filename1, filename4, temp_list, output_img)\n",
    "tmp = [(m[0].id, m[1].id) for m in temp_list]\n",
    "print(file1, \"vs.\", file4, \"= \", tmp)\n"
   ]
  },
  {
   "cell_type": "code",
   "execution_count": 8,
   "id": "73db6656",
   "metadata": {},
   "outputs": [
    {
     "name": "stdout",
     "output_type": "stream",
     "text": [
      "data_test\\fr2.jpg vs. data_test\\fr1.jpg =  [('0', '0'), ('1', '1'), ('2', '4'), ('3', '2'), ('4', '3'), ('5', '5'), ('6', '8'), ('7', '9'), ('8', '6'), ('9', '10'), ('10', '11'), ('11', '13'), ('12', '12'), ('13', '15'), ('14', '14'), ('15', '22'), ('16', '18'), ('17', '20'), ('18', '16'), ('19', '25'), ('20', '23'), ('21', '24'), ('22', '28'), ('23', '29'), ('24', '30'), ('25', '26'), ('26', '27'), ('27', '31'), ('28', '32')]\n"
     ]
    }
   ],
   "source": [
    "output = \"output_fr2_fr1.txt\"\n",
    "output = os.path.join(\"result\", output)\n",
    "temp_list = find_matching_stars(file2, file1, output)\n",
    "output_img = \"output_fr2_fr1.jpg\"\n",
    "output_img = os.path.join(\"result\", output_img)\n",
    "show_stars(filename2, filename1, temp_list, output_img)\n",
    "tmp = [(m[0].id, m[1].id) for m in temp_list]\n",
    "print(file2, \"vs.\", file1, \"= \", tmp)"
   ]
  },
  {
   "cell_type": "code",
   "execution_count": 9,
   "id": "dd71441d",
   "metadata": {},
   "outputs": [
    {
     "name": "stdout",
     "output_type": "stream",
     "text": [
      "data_test\\fr2.jpg vs. data_test\\ST_db1.jpg =  [('0', '17'), ('1', '2'), ('2', '10'), ('3', '1'), ('4', '44'), ('5', '15'), ('6', '0'), ('7', '7'), ('8', '3'), ('9', '24'), ('10', '34'), ('11', '12'), ('12', '26'), ('13', '4'), ('14', '19'), ('15', '20'), ('16', '14'), ('17', '5'), ('18', '13'), ('19', '21'), ('20', '16'), ('21', '31'), ('22', '69'), ('23', '60'), ('24', '29'), ('25', '36'), ('26', '67'), ('27', '109'), ('28', '143')]\n"
     ]
    }
   ],
   "source": [
    "output = \"output_fr2_ST_db1.txt\"\n",
    "output = os.path.join(\"result\", output)\n",
    "temp_list = find_matching_stars(file2, file3, output)\n",
    "output_img = \"output_fr2_ST_db1.jpg\"\n",
    "output_img = os.path.join(\"result\", output_img)\n",
    "show_stars(filename2, filename3, temp_list, output_img)\n",
    "tmp = [(m[0].id, m[1].id) for m in temp_list]\n",
    "print(file2, \"vs.\", file3, \"= \", tmp)"
   ]
  },
  {
   "cell_type": "code",
   "execution_count": 10,
   "id": "83ab4227",
   "metadata": {},
   "outputs": [
    {
     "name": "stdout",
     "output_type": "stream",
     "text": [
      "data_test\\fr2.jpg vs. data_test\\ST_db2.jpg =  [('0', '6'), ('1', '3'), ('2', '24'), ('3', '7'), ('4', '61'), ('5', '12'), ('6', '47'), ('7', '30'), ('8', '0'), ('9', '4'), ('10', '23'), ('11', '21'), ('12', '13'), ('13', '22'), ('14', '5'), ('15', '17'), ('16', '9'), ('17', '1'), ('18', '2'), ('19', '28'), ('20', '37'), ('21', '44'), ('22', '43'), ('23', '85'), ('24', '39'), ('25', '38'), ('26', '83'), ('27', '129'), ('28', '180')]\n"
     ]
    }
   ],
   "source": [
    "output = \"output_fr2_ST_db2.txt\"\n",
    "output = os.path.join(\"result\", output)\n",
    "temp_list = find_matching_stars(file2, file4, output)\n",
    "output_img = \"output_fr2_ST_db2.jpg\"\n",
    "output_img = os.path.join(\"result\", output_img)\n",
    "show_stars(filename2, filename4, temp_list, output_img)\n",
    "tmp = [(m[0].id, m[1].id) for m in temp_list]\n",
    "print(file2, \"vs.\", file4, \"= \", tmp)\n"
   ]
  },
  {
   "cell_type": "code",
   "execution_count": 13,
   "id": "ca859d59",
   "metadata": {},
   "outputs": [
    {
     "name": "stdout",
     "output_type": "stream",
     "text": [
      "data_test\\ST_db1.jpg vs. data_test\\fr1.jpg =  [('0', '11'), ('1', '17'), ('2', '20'), ('3', '13'), ('4', '21'), ('5', '1'), ('6', '7'), ('7', '25'), ('9', '2'), ('10', '4'), ('12', '15'), ('13', '14'), ('14', '12'), ('15', '8'), ('16', '18'), ('17', '16'), ('19', '0'), ('20', '6'), ('21', '22'), ('24', '10'), ('26', '9'), ('29', '19'), ('31', '3'), ('34', '5'), ('36', '26'), ('44', '27'), ('46', '30'), ('60', '28'), ('63', '23'), ('69', '24'), ('103', '29'), ('109', '31'), ('143', '32'), ('177', '33')]\n"
     ]
    }
   ],
   "source": [
    "output = \"output_ST_db1_fr1.txt\"\n",
    "output = os.path.join(\"result\", output)\n",
    "temp_list = find_matching_stars(file3, file1, output)\n",
    "output_img = \"output_ST_db1_fr1.jpg\"\n",
    "output_img = os.path.join(\"result\", output_img)\n",
    "show_stars(filename3, filename1, temp_list, output_img)\n",
    "tmp = [(m[0].id, m[1].id) for m in temp_list]\n",
    "print(file3, \"vs.\", file1, \"= \", tmp)"
   ]
  },
  {
   "cell_type": "code",
   "execution_count": 14,
   "id": "34561460",
   "metadata": {},
   "outputs": [
    {
     "name": "stdout",
     "output_type": "stream",
     "text": [
      "data_test\\ST_db1.jpg vs. data_test\\fr2.jpg =  [('0', '6'), ('1', '3'), ('2', '1'), ('3', '8'), ('4', '13'), ('5', '17'), ('7', '7'), ('10', '2'), ('12', '11'), ('13', '18'), ('14', '16'), ('15', '5'), ('16', '20'), ('17', '0'), ('19', '14'), ('20', '15'), ('21', '19'), ('24', '9'), ('26', '12'), ('29', '24'), ('31', '21'), ('34', '10'), ('36', '25'), ('44', '4'), ('60', '23'), ('67', '26'), ('69', '22'), ('109', '27'), ('143', '28')]\n"
     ]
    }
   ],
   "source": [
    "output = \"output_ST_db1_fr2.txt\"\n",
    "output = os.path.join(\"result\", output)\n",
    "temp_list = find_matching_stars(file3, file2, output)\n",
    "output_img = \"output_ST_db1_fr2.jpg\"\n",
    "output_img = os.path.join(\"result\", output_img)\n",
    "show_stars(filename3, filename2, temp_list, output_img)\n",
    "tmp = [(m[0].id, m[1].id) for m in temp_list]\n",
    "print(file3, \"vs.\", file2, \"= \", tmp)\n"
   ]
  },
  {
   "cell_type": "code",
   "execution_count": 15,
   "id": "86cda0e3",
   "metadata": {},
   "outputs": [
    {
     "name": "stdout",
     "output_type": "stream",
     "text": [
      "data_test\\ST_db1.jpg vs. data_test\\ST_db2.jpg =  [('0', '4'), ('1', '11'), ('2', '7'), ('3', '5'), ('4', '21'), ('5', '1'), ('6', '3'), ('7', '28'), ('8', '14'), ('9', '6'), ('10', '0'), ('11', '16'), ('12', '17'), ('13', '2'), ('14', '23'), ('15', '22'), ('16', '13'), ('17', '25'), ('18', '15'), ('19', '29'), ('20', '33'), ('21', '24'), ('22', '26'), ('23', '10'), ('24', '39'), ('25', '18'), ('26', '37'), ('27', '19'), ('28', '32'), ('29', '48'), ('30', '27'), ('31', '44'), ('32', '34'), ('33', '20'), ('34', '30'), ('35', '35'), ('36', '38'), ('37', '49'), ('38', '60'), ('39', '36'), ('40', '45'), ('41', '31'), ('42', '51'), ('43', '42'), ('44', '47'), ('45', '46'), ('46', '41'), ('47', '52'), ('48', '58'), ('49', '50'), ('50', '56'), ('51', '40'), ('52', '53'), ('53', '65'), ('54', '68'), ('55', '57'), ('56', '54'), ('57', '62'), ('58', '67'), ('59', '77'), ('60', '61'), ('61', '73'), ('62', '75'), ('63', '63'), ('64', '70'), ('65', '66'), ('66', '72'), ('67', '71'), ('68', '59'), ('69', '81'), ('70', '76'), ('71', '64'), ('72', '74'), ('73', '55'), ('74', '79'), ('75', '87'), ('76', '86'), ('77', '69'), ('78', '82'), ('79', '91'), ('80', '93'), ('81', '88'), ('82', '84'), ('83', '80'), ('84', '78'), ('85', '99'), ('86', '102'), ('87', '89'), ('88', '108'), ('89', '100'), ('90', '96'), ('91', '94'), ('92', '83'), ('93', '105'), ('94', '114'), ('95', '98'), ('96', '104'), ('97', '95'), ('98', '115'), ('99', '101'), ('100', '112'), ('101', '118'), ('102', '107'), ('103', '103'), ('104', '113'), ('105', '110'), ('106', '116'), ('107', '97'), ('108', '111'), ('109', '121'), ('110', '160'), ('111', '140'), ('112', '123'), ('113', '106'), ('114', '119'), ('115', '122'), ('116', '141'), ('117', '124'), ('118', '117'), ('119', '148'), ('120', '133'), ('121', '109'), ('122', '127'), ('123', '138'), ('124', '150'), ('125', '145'), ('126', '147'), ('127', '142'), ('128', '135'), ('129', '126'), ('130', '146'), ('131', '149'), ('132', '156'), ('133', '139'), ('134', '169'), ('135', '144'), ('136', '165'), ('137', '151'), ('138', '132'), ('139', '158'), ('140', '157'), ('141', '153'), ('142', '120'), ('143', '164'), ('144', '154'), ('145', '143'), ('146', '155'), ('147', '137'), ('148', '136'), ('149', '129'), ('150', '177'), ('151', '168'), ('152', '163'), ('153', '159'), ('154', '180'), ('155', '131'), ('156', '134'), ('157', '174'), ('158', '175'), ('159', '179'), ('160', '181'), ('161', '161'), ('162', '185'), ('163', '128'), ('164', '172'), ('165', '173'), ('166', '183'), ('167', '166'), ('168', '162'), ('169', '167'), ('170', '176'), ('171', '171'), ('172', '152'), ('173', '184'), ('174', '178'), ('175', '190'), ('176', '188'), ('177', '192'), ('178', '191'), ('179', '182'), ('180', '186'), ('181', '193')]\n"
     ]
    }
   ],
   "source": [
    "output = \"output_ST_db1_ST_db2.txt\"\n",
    "output = os.path.join(\"result\", output)\n",
    "temp_list = find_matching_stars(file3, file4, output)\n",
    "output_img = \"output_ST_db1_ST_db2.jpg\"\n",
    "output_img = os.path.join(\"result\", output_img)\n",
    "show_stars(filename3, filename4, temp_list, output_img)\n",
    "tmp = [(m[0].id, m[1].id) for m in temp_list]\n",
    "print(file3, \"vs.\", file4, \"= \", tmp)"
   ]
  },
  {
   "cell_type": "code",
   "execution_count": 16,
   "id": "67f9e869",
   "metadata": {},
   "outputs": [
    {
     "name": "stdout",
     "output_type": "stream",
     "text": [
      "data_test\\ST_db2.jpg vs. data_test\\fr1.jpg =  [('0', '6'), ('1', '0'), ('2', '14'), ('3', '7'), ('4', '21'), ('5', '16'), ('6', '2'), ('7', '20'), ('8', '17'), ('9', '12'), ('10', '1'), ('12', '11'), ('13', '9'), ('17', '4'), ('21', '22'), ('22', '26'), ('23', '5'), ('24', '15'), ('28', '10'), ('29', '13'), ('30', '19'), ('37', '23'), ('38', '25'), ('43', '24'), ('44', '18'), ('47', '8'), ('51', '30'), ('61', '3'), ('63', '27'), ('85', '28'), ('90', '29'), ('103', '31'), ('180', '32'), ('192', '33')]\n"
     ]
    }
   ],
   "source": [
    "output = \"output_ST_db2_fr1.txt\"\n",
    "output = os.path.join(\"result\", output)\n",
    "temp_list = find_matching_stars(file4, file1, output)\n",
    "output_img = \"output_ST_db2_fr1.jpg\"\n",
    "output_img = os.path.join(\"result\", output_img)\n",
    "show_stars(filename4, filename1, temp_list, output_img)\n",
    "tmp = [(m[0].id, m[1].id) for m in temp_list]\n",
    "print(file4, \"vs.\", file1, \"= \", tmp)"
   ]
  },
  {
   "cell_type": "code",
   "execution_count": 17,
   "id": "34ce4e32",
   "metadata": {},
   "outputs": [
    {
     "name": "stdout",
     "output_type": "stream",
     "text": [
      "data_test\\ST_db2.jpg vs. data_test\\fr2.jpg =  [('0', '8'), ('1', '17'), ('2', '18'), ('3', '1'), ('4', '9'), ('5', '14'), ('6', '0'), ('7', '3'), ('9', '16'), ('12', '5'), ('13', '12'), ('17', '15'), ('21', '11'), ('22', '13'), ('23', '10'), ('24', '2'), ('28', '19'), ('30', '7'), ('37', '20'), ('38', '25'), ('39', '24'), ('43', '22'), ('44', '21'), ('47', '6'), ('61', '4'), ('83', '26'), ('85', '23'), ('129', '27'), ('180', '28')]\n"
     ]
    }
   ],
   "source": [
    "output = \"output_ST_db2_fr2.txt\"\n",
    "output = os.path.join(\"result\", output)\n",
    "temp_list = find_matching_stars(file4, file2, output)\n",
    "output_img = \"output_ST_db2_fr2.jpg\"\n",
    "output_img = os.path.join(\"result\", output_img)\n",
    "show_stars(filename4, filename2, temp_list, output_img)\n",
    "tmp = [(m[0].id, m[1].id) for m in temp_list]\n",
    "print(file4, \"vs.\", file2, \"= \", tmp)"
   ]
  },
  {
   "cell_type": "code",
   "execution_count": 18,
   "id": "329234da",
   "metadata": {},
   "outputs": [
    {
     "name": "stdout",
     "output_type": "stream",
     "text": [
      "data_test\\ST_db2.jpg vs. data_test\\ST_db1.jpg =  [('0', '10'), ('1', '5'), ('2', '13'), ('3', '6'), ('4', '0'), ('5', '3'), ('6', '9'), ('7', '2'), ('10', '23'), ('11', '1'), ('13', '16'), ('14', '8'), ('15', '18'), ('16', '11'), ('17', '12'), ('18', '25'), ('19', '27'), ('20', '33'), ('21', '4'), ('22', '15'), ('23', '14'), ('24', '21'), ('25', '17'), ('26', '22'), ('27', '30'), ('28', '7'), ('29', '19'), ('30', '34'), ('31', '41'), ('32', '28'), ('33', '20'), ('34', '32'), ('35', '35'), ('36', '39'), ('37', '26'), ('38', '36'), ('39', '24'), ('40', '51'), ('41', '46'), ('42', '43'), ('44', '31'), ('45', '40'), ('46', '45'), ('47', '44'), ('48', '29'), ('49', '37'), ('50', '49'), ('51', '42'), ('52', '47'), ('53', '52'), ('54', '56'), ('55', '73'), ('56', '50'), ('57', '55'), ('58', '48'), ('59', '68'), ('60', '38'), ('61', '60'), ('62', '57'), ('63', '63'), ('64', '71'), ('65', '53'), ('66', '65'), ('67', '58'), ('68', '54'), ('69', '77'), ('70', '64'), ('71', '67'), ('72', '66'), ('73', '61'), ('74', '72'), ('75', '62'), ('76', '70'), ('77', '59'), ('78', '84'), ('79', '74'), ('80', '83'), ('81', '69'), ('82', '78'), ('83', '92'), ('84', '82'), ('86', '76'), ('87', '75'), ('88', '81'), ('89', '87'), ('91', '79'), ('93', '80'), ('94', '91'), ('95', '97'), ('96', '90'), ('97', '107'), ('98', '95'), ('99', '85'), ('100', '89'), ('101', '99'), ('102', '86'), ('103', '103'), ('104', '96'), ('105', '93'), ('106', '113'), ('107', '102'), ('108', '88'), ('109', '121'), ('110', '105'), ('111', '108'), ('112', '100'), ('113', '104'), ('114', '94'), ('115', '98'), ('116', '106'), ('117', '118'), ('118', '101'), ('119', '114'), ('120', '142'), ('121', '109'), ('122', '115'), ('123', '112'), ('124', '117'), ('126', '129'), ('127', '122'), ('128', '163'), ('129', '149'), ('131', '155'), ('132', '138'), ('133', '120'), ('134', '156'), ('135', '128'), ('136', '148'), ('137', '147'), ('138', '123'), ('139', '133'), ('140', '111'), ('141', '116'), ('142', '127'), ('143', '145'), ('144', '135'), ('145', '125'), ('146', '130'), ('147', '126'), ('148', '119'), ('149', '131'), ('150', '124'), ('151', '137'), ('152', '172'), ('153', '141'), ('154', '144'), ('155', '146'), ('156', '132'), ('157', '140'), ('158', '139'), ('159', '153'), ('160', '110'), ('161', '161'), ('162', '168'), ('163', '152'), ('164', '143'), ('165', '136'), ('166', '167'), ('167', '169'), ('168', '151'), ('169', '134'), ('171', '171'), ('172', '164'), ('173', '165'), ('174', '157'), ('175', '158'), ('176', '170'), ('177', '150'), ('178', '174'), ('179', '159'), ('180', '154'), ('181', '160'), ('182', '179'), ('183', '166'), ('184', '173'), ('185', '162'), ('186', '180'), ('188', '176'), ('190', '175'), ('191', '178'), ('192', '177'), ('193', '181')]\n"
     ]
    }
   ],
   "source": [
    "output = \"output_ST_db2_ST_db1.txt\"\n",
    "output = os.path.join(\"result\", output)\n",
    "temp_list = find_matching_stars(file4, file3, output)\n",
    "output_img = \"output_ST_db2_ST_db1.jpg\"\n",
    "output_img = os.path.join(\"result\", output_img)\n",
    "show_stars(filename4, filename3, temp_list, output_img)\n",
    "tmp = [(m[0].id, m[1].id) for m in temp_list]\n",
    "print(file4, \"vs.\", file3, \"= \", tmp)"
   ]
  }
 ],
 "metadata": {
  "kernelspec": {
   "display_name": "Python 3 (ipykernel)",
   "language": "python",
   "name": "python3"
  },
  "language_info": {
   "codemirror_mode": {
    "name": "ipython",
    "version": 3
   },
   "file_extension": ".py",
   "mimetype": "text/x-python",
   "name": "python",
   "nbconvert_exporter": "python",
   "pygments_lexer": "ipython3",
   "version": "3.11.3"
  }
 },
 "nbformat": 4,
 "nbformat_minor": 5
}
