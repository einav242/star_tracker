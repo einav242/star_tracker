{
 "cells": [
  {
   "cell_type": "markdown",
   "id": "30d5ed07",
   "metadata": {},
   "source": [
    "# import moudles into our code"
   ]
  },
  {
   "cell_type": "code",
   "execution_count": 1,
   "id": "a3537254",
   "metadata": {},
   "outputs": [],
   "source": [
    "import os\n",
    "import numpy as np\n",
    "import cv2\n",
    "from scipy.optimize import linear_sum_assignment\n",
    "from scipy.spatial import distance_matrix\n",
    "\n",
    "from star import Star\n"
   ]
  },
  {
   "cell_type": "markdown",
   "id": "588c029a",
   "metadata": {},
   "source": [
    "find coreds in picter and save to some file"
   ]
  },
  {
   "cell_type": "code",
   "execution_count": 2,
   "id": "16e0ed1b",
   "metadata": {},
   "outputs": [],
   "source": [
    "def find_coordinates(img_path, output_path=None):\n",
    "    \"\"\"\n",
    "    This function finds the coordinates of stars in an image using image processing techniques.\n",
    "\n",
    "    Parameters:\n",
    "    img_path (str): The path of the image file.\n",
    "    output_path (str): The path of the output file. If None, the function does not save the results.\n",
    "\n",
    "    Returns:\n",
    "    coordinates (list): A list of Star objects representing the stars found in the image.\n",
    "    \"\"\"\n",
    "    # Load the image and convert it to grayscale\n",
    "    image = cv2.imread(img_path)\n",
    "    gray = cv2.cvtColor(image, cv2.COLOR_BGR2GRAY)\n",
    "\n",
    "    # Apply thresholding to the image\n",
    "    _, thresh = cv2.threshold(gray, 180, 220, cv2.THRESH_BINARY)\n",
    "\n",
    "    # Find the contours in the thresholded image\n",
    "    contours, _ = cv2.findContours(thresh, cv2.RETR_EXTERNAL, cv2.CHAIN_APPROX_SIMPLE)\n",
    "\n",
    "    # Initialize variables\n",
    "    coordinates = []\n",
    "    check = []\n",
    "    count = 0\n",
    "\n",
    "    # Loop through the contours\n",
    "    for i, c in enumerate(contours):\n",
    "        # Get the coordinates and size of the bounding rectangle around the contour\n",
    "        x, y, w, h = cv2.boundingRect(c)\n",
    "\n",
    "        # Calculate the radius of the circle that encloses the rectangle\n",
    "        r = int((w + h) / 4)\n",
    "\n",
    "        # Calculate the average brightness of the region inside the rectangle\n",
    "        b = int(gray[y:y + h, x:x + w].mean())\n",
    "\n",
    "        # Calculate the center coordinates of the rectangle\n",
    "        x = x + w / 2\n",
    "        y = y + h / 2\n",
    "\n",
    "        # Create a Star object with the calculated parameters\n",
    "        st = Star(x, y, r, b, count, image)\n",
    "\n",
    "        # Check if the coordinates have already been added\n",
    "        ans = (x, y)\n",
    "        if ans in check:\n",
    "            continue\n",
    "\n",
    "        # Add the Star object to the list of coordinates\n",
    "        coordinates.append(st)\n",
    "        check.append(ans)\n",
    "        count += 1\n",
    "\n",
    "    # If an output path is provided, write the coordinates to a file\n",
    "    if output_path is not None:\n",
    "        with open(output_path, 'w') as f:\n",
    "            for result in coordinates:\n",
    "                f.write(f\"{result.id},{result.x},{result.y},{result.r},{result.b}\\n\")\n",
    "\n",
    "    # Return the list of coordinates\n",
    "    return coordinates\n"
   ]
  },
  {
   "cell_type": "markdown",
   "id": "79ea9f0c",
   "metadata": {},
   "source": [
    "function to calc the distence betweeen 2 coreds"
   ]
  },
  {
   "cell_type": "code",
   "execution_count": 3,
   "id": "581c5991",
   "metadata": {},
   "outputs": [],
   "source": [
    "def draw_image(img_path, coordinates):\n",
    "    # Load image from file\n",
    "    image = cv2.imread(img_path)\n",
    "\n",
    "    # Draw circles on the image where there are stars\n",
    "    for star in coordinates:\n",
    "        cv2.circle(image, (int(star.x), int(star.y)), int(star.r) + 5, (0, 255, 255), 5)\n",
    "\n",
    "    # Save the processed image to file\n",
    "    filename = \"%s_processed.jpg\" % img_path\n",
    "    cv2.imwrite(filename, image)\n",
    "    cv2.destroyAllWindows()\n"
   ]
  },
  {
   "cell_type": "markdown",
   "id": "12b4ef9f",
   "metadata": {},
   "source": [
    "using the 2 function above to find the best natchs and return it"
   ]
  },
  {
   "cell_type": "code",
   "execution_count": 4,
   "id": "8e1dfc5d",
   "metadata": {},
   "outputs": [],
   "source": [
    "def show_stars(filename_1, filename_2, matching, output_file):\n",
    "    # Load images from file\n",
    "    image1 = cv2.imread(filename_1)\n",
    "    image2 = cv2.imread(filename_2)\n",
    "\n",
    "    # Iterate over matching stars and draw circles and labels on both images\n",
    "    for match in matching:\n",
    "        star1 = match[0]\n",
    "        star2 = match[1]\n",
    "\n",
    "        # Draw circle and label on first image\n",
    "        cv2.circle(image1, (int(star1.x), int(star1.y)), int(star1.r) + 5, (0, 255, 0), 5)\n",
    "        cv2.putText(image1, \"ID: \" + star1.id, (int(star1.x) + int(star1.r) + 5, int(star1.y)),\n",
    "                    cv2.FONT_HERSHEY_SIMPLEX,\n",
    "                    2.5,\n",
    "                    (0, 255, 0), 2)\n",
    "\n",
    "        # Draw circle and label on second image\n",
    "        cv2.circle(image2, (int(star2.x), int(star2.y)), int(star2.r) + 5, (0, 255, 0), 5)\n",
    "        cv2.putText(image2, \"ID: \" + star2.id, (int(star2.x) + int(star2.r) + 5, int(star2.y)),\n",
    "                    cv2.FONT_HERSHEY_SIMPLEX,\n",
    "                    2.5,\n",
    "                    (0, 255, 0), 2)\n",
    "\n",
    "    # Resize second image to match the size of the first image, and concatenate the images side-by-side\n",
    "    img2_resized = cv2.resize(image2, (image1.shape[1], image1.shape[0]))\n",
    "    result = cv2.hconcat([image1, img2_resized])\n",
    "\n",
    "    # Save the resulting image to file\n",
    "    cv2.imwrite(output_file, result)\n",
    "    cv2.destroyAllWindows()\n"
   ]
  },
  {
   "cell_type": "code",
   "execution_count": 5,
   "id": "888c380d",
   "metadata": {},
   "outputs": [],
   "source": [
    "# The function returns the distance between two stars.\n",
    "def distance(point1, point2):\n",
    "    return np.sqrt((point1.x - point2.x) ** 2 + (point1.y - point2.y) ** 2)\n",
    "\n"
   ]
  },
  {
   "cell_type": "code",
   "execution_count": 6,
   "id": "cd18d4c2",
   "metadata": {},
   "outputs": [],
   "source": [
    "def find_matching_stars(img1_path, img2_path, output_path=None):\n",
    "    \"\"\"\n",
    "      Find matching pairs of stars between two input images.\n",
    "\n",
    "      Parameters:\n",
    "          - img1_path (str): path to the first image file\n",
    "          - img2_path (str): path to the second image file\n",
    "          - output_path (str, optional): path to output file to write matching pairs (default=None)\n",
    "\n",
    "      Returns:\n",
    "          - matching_pairs (list of tuples): list of matching star pairs between the two images,\n",
    "              where each pair is a tuple of Star objects representing the corresponding stars in each image\n",
    "      \"\"\"\n",
    "    # Find coordinates of stars in the first image\n",
    "    stars1 = find_coordinates(img1_path)\n",
    "    # Draw the first image with the found stars marked\n",
    "    draw_image(img1_path, stars1)\n",
    "    # Find coordinates of stars in the second image\n",
    "    stars2 = find_coordinates(img2_path)\n",
    "    # Draw the second image with the found stars marked\n",
    "    draw_image(img2_path, stars2)\n",
    "    # Compute the distance matrix between the star coordinates in the two images\n",
    "    distances = distance_matrix(np.array([(s.x, s.y) for s in stars1]), np.array([(s.x, s.y) for s in stars2]))\n",
    "    # Use the Hungarian algorithm to find the optimal matching between the stars in the two images\n",
    "    row_ind, col_ind = linear_sum_assignment(distances)\n",
    "    # Create a list of matching star pairs\n",
    "    matching_pairs = []\n",
    "    for r, c in zip(row_ind, col_ind):\n",
    "        matching_pairs.append((stars1[r], stars2[c]))\n",
    "    # Write the matching pairs to an output file if an output path is provided\n",
    "    if output_path is not None:\n",
    "        with open(output_path, \"w\") as file:\n",
    "            for pair in matching_pairs:\n",
    "                p = (pair[0].id, pair[1].id)\n",
    "                file.write(str(p) + \"\\n\")\n",
    "    # Return the list of matching star pairs\n",
    "    return matching_pairs\n"
   ]
  },
  {
   "cell_type": "code",
   "execution_count": 7,
   "id": "00858119",
   "metadata": {},
   "outputs": [
    {
     "name": "stdout",
     "output_type": "stream",
     "text": [
      "data\\IMG_3046.jpg vs. data\\IMG_3047.jpg =  [('0', '0'), ('1', '1'), ('2', '2'), ('3', '3'), ('4', '4'), ('5', '5'), ('6', '6'), ('7', '7'), ('8', '8'), ('9', '9'), ('10', '10'), ('11', '11'), ('12', '12'), ('13', '13'), ('14', '14'), ('15', '15'), ('16', '16'), ('17', '17'), ('18', '18'), ('19', '19'), ('20', '20'), ('21', '21'), ('22', '22')]\n",
      "data\\IMG_3047.jpg vs. data\\IMG_3048.jpg =  [('0', '0'), ('1', '2'), ('2', '3'), ('3', '1'), ('4', '4'), ('5', '8'), ('6', '6'), ('7', '10'), ('8', '5'), ('9', '7'), ('10', '9'), ('11', '11'), ('12', '14'), ('13', '12'), ('14', '13'), ('15', '15'), ('16', '17'), ('17', '16'), ('19', '18'), ('20', '19'), ('21', '20'), ('22', '21')]\n",
      "data\\IMG_3048.jpg vs. data\\IMG_3049.jpg =  [('2', '0'), ('3', '1'), ('6', '2'), ('8', '3'), ('9', '4'), ('13', '5'), ('15', '6'), ('18', '8'), ('19', '10'), ('20', '9'), ('21', '7')]\n",
      "data\\IMG_3049.jpg vs. data\\IMG_3050.jpg =  [('0', '0'), ('2', '5'), ('3', '1'), ('4', '2'), ('5', '3'), ('6', '4'), ('7', '6'), ('8', '8'), ('9', '9'), ('10', '7')]\n",
      "data\\IMG_3050.jpg vs. data\\IMG_3051.jpg =  [('0', '0'), ('1', '1'), ('2', '2'), ('3', '3'), ('5', '5'), ('6', '4')]\n",
      "data\\IMG_3051.jpg vs. data\\IMG_3052.jpg =  [('0', '0'), ('1', '3'), ('2', '1'), ('3', '4'), ('4', '7'), ('5', '8')]\n",
      "data\\IMG_3052.jpg vs. data\\IMG_3053.jpg =  [('2', '0'), ('3', '2'), ('4', '5'), ('5', '3'), ('8', '1'), ('9', '4'), ('10', '7'), ('13', '6'), ('18', '8'), ('24', '9'), ('28', '11'), ('29', '12'), ('30', '10'), ('33', '13'), ('35', '14'), ('36', '16'), ('37', '15')]\n",
      "data\\IMG_3053.jpg vs. data\\IMG_3054.jpg =  [('0', '1'), ('1', '4'), ('2', '7'), ('3', '3'), ('4', '6'), ('5', '5'), ('6', '8'), ('7', '10'), ('8', '13'), ('9', '18'), ('10', '20'), ('11', '21'), ('12', '19'), ('13', '23'), ('14', '24'), ('15', '26'), ('16', '25')]\n",
      "data\\IMG_3054.jpg vs. data\\IMG_3055.jpg =  [('0', '1'), ('1', '6'), ('2', '5'), ('3', '2'), ('4', '3'), ('5', '7'), ('6', '11'), ('7', '9'), ('8', '13'), ('9', '14'), ('10', '16'), ('11', '15'), ('12', '17'), ('13', '18'), ('14', '19'), ('15', '25'), ('16', '21'), ('17', '23'), ('18', '28'), ('19', '26'), ('20', '24'), ('21', '27'), ('22', '31'), ('23', '32'), ('24', '29'), ('25', '30'), ('26', '33'), ('27', '35')]\n",
      "data\\IMG_3055.jpg vs. data\\IMG_3056.jpg =  [('1', '0'), ('5', '1'), ('6', '2'), ('12', '3'), ('16', '4')]\n",
      "data\\IMG_3056.jpg vs. data\\IMG_3057.jpg =  [('0', '15'), ('1', '22'), ('2', '27'), ('3', '29'), ('4', '180')]\n",
      "data\\IMG_3057.jpg vs. data\\IMG_3058.jpg =  [('13', '2'), ('15', '0'), ('22', '1'), ('28', '3'), ('2056', '4'), ('2059', '7'), ('2061', '5'), ('2062', '6'), ('2063', '8'), ('2066', '9')]\n",
      "data\\IMG_3058.jpg vs. data\\IMG_3059.jpg =  [('0', '1'), ('1', '3'), ('2', '2'), ('3', '0'), ('4', '4'), ('5', '5'), ('6', '9'), ('7', '7'), ('8', '6'), ('9', '10')]\n",
      "data\\IMG_3059.jpg vs. data\\IMG_3060.jpg =  [('0', '0'), ('1', '5'), ('2', '13'), ('3', '19'), ('4', '51'), ('5', '49'), ('6', '61'), ('7', '60'), ('8', '67'), ('9', '66'), ('10', '68')]\n",
      "data\\IMG_3060.jpg vs. data\\IMG_3061.jpg =  [('2', '0'), ('4', '2'), ('7', '1'), ('8', '5'), ('9', '4'), ('10', '9'), ('11', '8'), ('12', '3'), ('14', '7'), ('15', '12'), ('16', '10'), ('17', '6'), ('18', '13'), ('19', '14'), ('20', '16'), ('21', '20'), ('22', '11'), ('24', '18'), ('25', '22'), ('26', '15'), ('27', '23'), ('29', '21'), ('30', '17'), ('31', '19'), ('33', '25'), ('35', '24'), ('36', '28'), ('37', '27'), ('38', '33'), ('39', '35'), ('41', '26'), ('45', '31'), ('47', '30'), ('48', '36'), ('50', '29'), ('52', '32'), ('53', '34'), ('54', '39'), ('55', '40'), ('56', '37'), ('57', '44'), ('58', '41'), ('59', '38'), ('60', '46'), ('61', '47'), ('62', '42'), ('63', '45'), ('64', '51'), ('65', '49'), ('66', '43'), ('67', '50'), ('68', '48')]\n",
      "data\\IMG_3061.jpg vs. data\\IMG_3062.jpg =  [('0', '23'), ('1', '229'), ('2', '505'), ('3', '535'), ('4', '662'), ('5', '940'), ('6', '1146'), ('7', '1273'), ('8', '1272'), ('9', '1241'), ('10', '1510'), ('11', '1509'), ('12', '1779'), ('13', '2666'), ('14', '3366'), ('15', '3497'), ('16', '3496'), ('17', '3051'), ('18', '4259'), ('19', '3832'), ('20', '3524'), ('21', '3973'), ('22', '3787'), ('23', '4274'), ('24', '4126'), ('25', '4279'), ('26', '4270'), ('27', '4265'), ('28', '4278'), ('29', '4284'), ('30', '4271'), ('31', '4287'), ('32', '4291'), ('33', '4285'), ('34', '4282'), ('35', '4289'), ('36', '4293'), ('37', '4300'), ('38', '4299'), ('39', '4286'), ('40', '4298'), ('41', '4294'), ('42', '4297'), ('43', '4295'), ('44', '4304'), ('45', '4306'), ('46', '4307'), ('47', '4310'), ('48', '4311'), ('49', '4308'), ('50', '4314'), ('51', '4312')]\n"
     ]
    }
   ],
   "source": [
    "def main():\n",
    "    for i in range(3046, 3062):\n",
    "        file1 = \"IMG_\" + str(i) + \".jpg\"\n",
    "        file1 = os.path.join(\"data\", file1)\n",
    "        file2 = \"IMG_\" + str(i + 1) + \".jpg\"\n",
    "        file2 = os.path.join(\"data\", file2)\n",
    "        output = \"output\" + str(i) + \".txt\"\n",
    "        output = os.path.join(\"result\", output)\n",
    "        temp_list = find_matching_stars(file1, file2, output)\n",
    "        tmp = [(m[0].id, m[1].id) for m in temp_list]\n",
    "        print(file1, \"vs.\", file2, \"= \", tmp)\n",
    "        filename1 = \"%s_processed.jpg\" % file1\n",
    "        filename2 = \"%s_processed.jpg\" % file2\n",
    "        output_img = \"output\" + str(i) + \".jpg\"\n",
    "        output_img = os.path.join(\"result\", output_img)\n",
    "        show_stars(filename1, filename2, temp_list, output_img)\n",
    "\n",
    "\n",
    "if __name__ == \"__main__\":\n",
    "    main()\n"
   ]
  }
 ],
 "metadata": {
  "kernelspec": {
   "display_name": "Python 3 (ipykernel)",
   "language": "python",
   "name": "python3"
  },
  "language_info": {
   "codemirror_mode": {
    "name": "ipython",
    "version": 3
   },
   "file_extension": ".py",
   "mimetype": "text/x-python",
   "name": "python",
   "nbconvert_exporter": "python",
   "pygments_lexer": "ipython3",
   "version": "3.11.3"
  }
 },
 "nbformat": 4,
 "nbformat_minor": 5
}
